{
 "cells": [
  {
   "cell_type": "markdown",
   "metadata": {},
   "source": [
    "## Data Preprocessing"
   ]
  },
  {
   "cell_type": "code",
   "execution_count": 1,
   "metadata": {
    "id": "Kw2ghfO9BTwz"
   },
   "outputs": [],
   "source": [
    "import pandas as pd\n",
    "import numpy as np"
   ]
  },
  {
   "cell_type": "code",
   "execution_count": 2,
   "metadata": {
    "colab": {
     "base_uri": "https://localhost:8080/"
    },
    "id": "yTG13VdeBTw1",
    "outputId": "be452e28-99ae-4def-d179-ae057e8f2a82"
   },
   "outputs": [
    {
     "name": "stdout",
     "output_type": "stream",
     "text": [
      "<class 'pandas.core.frame.DataFrame'>\n",
      "RangeIndex: 10972 entries, 0 to 10971\n",
      "Data columns (total 8 columns):\n",
      " #   Column                Non-Null Count  Dtype \n",
      "---  ------                --------------  ----- \n",
      " 0   GIF ID                10972 non-null  object\n",
      " 1   Web Archive Link      10972 non-null  object\n",
      " 2   MD5 Hash              10972 non-null  object\n",
      " 3   File Size (In Bytes)  10972 non-null  int64 \n",
      " 4   GIPHY Title           10461 non-null  object\n",
      " 5   Import Date           10656 non-null  object\n",
      " 6   Trending Date         10656 non-null  object\n",
      " 7   Description           2608 non-null   object\n",
      "dtypes: int64(1), object(7)\n",
      "memory usage: 685.9+ KB\n"
     ]
    }
   ],
   "source": [
    "df = pd.read_csv(\"giphy_with_descriptions.csv\")\n",
    "df.info()"
   ]
  },
  {
   "cell_type": "code",
   "execution_count": 3,
   "metadata": {
    "colab": {
     "base_uri": "https://localhost:8080/"
    },
    "id": "8-ds_G4jBTw1",
    "outputId": "d3a5105e-2059-423a-d437-dbc32e173831"
   },
   "outputs": [
    {
     "name": "stderr",
     "output_type": "stream",
     "text": [
      "/var/folders/0_/492vkfd907l731l24rh69fww0000gn/T/ipykernel_54524/2260444410.py:8: SettingWithCopyWarning: \n",
      "A value is trying to be set on a copy of a slice from a DataFrame.\n",
      "Try using .loc[row_indexer,col_indexer] = value instead\n",
      "\n",
      "See the caveats in the documentation: https://pandas.pydata.org/pandas-docs/stable/user_guide/indexing.html#returning-a-view-versus-a-copy\n",
      "  giphy_data['GIPHY Title'] = giphy_data['GIPHY Title'].str.replace(r'\\bGIF\\b', '', regex=True).str.strip()\n"
     ]
    }
   ],
   "source": [
    "giphy_data = df[\n",
    "    df['GIPHY Title'].notnull() &\n",
    "    (df['GIPHY Title'] != '[empty]') &\n",
    "    (df['GIPHY Title'] != 'NA')\n",
    "]\n",
    "giphy_data\n",
    "\n",
    "giphy_data['GIPHY Title'] = giphy_data['GIPHY Title'].str.replace(r'\\bGIF\\b', '', regex=True).str.strip()"
   ]
  },
  {
   "cell_type": "code",
   "execution_count": 4,
   "metadata": {
    "colab": {
     "base_uri": "https://localhost:8080/"
    },
    "id": "jtCXC2HxBTw2",
    "outputId": "aa0d7a5e-8110-45a2-861b-fff235242729"
   },
   "outputs": [
    {
     "name": "stderr",
     "output_type": "stream",
     "text": [
      "/var/folders/0_/492vkfd907l731l24rh69fww0000gn/T/ipykernel_54524/2205027210.py:35: SettingWithCopyWarning: \n",
      "A value is trying to be set on a copy of a slice from a DataFrame.\n",
      "Try using .loc[row_indexer,col_indexer] = value instead\n",
      "\n",
      "See the caveats in the documentation: https://pandas.pydata.org/pandas-docs/stable/user_guide/indexing.html#returning-a-view-versus-a-copy\n",
      "  giphy_data[\"processed\"] = giphy_data[\"GIPHY Title\"].apply(preprocess_titles_enhanced)\n",
      "/var/folders/0_/492vkfd907l731l24rh69fww0000gn/T/ipykernel_54524/2205027210.py:38: SettingWithCopyWarning: \n",
      "A value is trying to be set on a copy of a slice from a DataFrame.\n",
      "Try using .loc[row_indexer,col_indexer] = value instead\n",
      "\n",
      "See the caveats in the documentation: https://pandas.pydata.org/pandas-docs/stable/user_guide/indexing.html#returning-a-view-versus-a-copy\n",
      "  giphy_data[\"emotion\"] = giphy_data[\"processed\"].apply(lambda x: x[\"emotion\"])\n",
      "/var/folders/0_/492vkfd907l731l24rh69fww0000gn/T/ipykernel_54524/2205027210.py:39: SettingWithCopyWarning: \n",
      "A value is trying to be set on a copy of a slice from a DataFrame.\n",
      "Try using .loc[row_indexer,col_indexer] = value instead\n",
      "\n",
      "See the caveats in the documentation: https://pandas.pydata.org/pandas-docs/stable/user_guide/indexing.html#returning-a-view-versus-a-copy\n",
      "  giphy_data[\"keywords\"] = giphy_data[\"processed\"].apply(lambda x: x[\"keywords\"])\n"
     ]
    }
   ],
   "source": [
    "import spacy\n",
    "from textblob import TextBlob\n",
    "from sklearn.feature_extraction.text import ENGLISH_STOP_WORDS\n",
    "\n",
    "# Load spaCy's English model\n",
    "nlp = spacy.load(\"en_core_web_sm\")\n",
    "\n",
    "# Define an enhanced preprocessing function\n",
    "def preprocess_titles_enhanced(title):\n",
    "    \"\"\"\n",
    "    Enhanced preprocessing for extracting sentiment and keywords from titles.\n",
    "    \"\"\"\n",
    "    if pd.isna(title):\n",
    "        return {\"emotion\": \"unknown\", \"keywords\": []}\n",
    "\n",
    "    # Clean and tokenize the title using spaCy\n",
    "    doc = nlp(title.lower())\n",
    "    tokens = [token.lemma_ for token in doc if token.is_alpha and token.text not in ENGLISH_STOP_WORDS]\n",
    "\n",
    "    # Extract sentiment polarity and categorize into emotions\n",
    "    sentiment = TextBlob(title).sentiment.polarity\n",
    "    if sentiment > 0.3:\n",
    "        emotion = \"positive\"\n",
    "    elif sentiment < -0.3:\n",
    "        emotion = \"negative\"\n",
    "    else:\n",
    "        emotion = \"neutral\"\n",
    "\n",
    "    # Extract keywords by filtering nouns and adjectives\n",
    "    keywords = [token.text for token in doc if token.pos_ in {\"NOUN\", \"ADJ\"}]\n",
    "\n",
    "    return {\"emotion\": emotion, \"keywords\": keywords}\n",
    "\n",
    "\n",
    "giphy_data[\"processed\"] = giphy_data[\"GIPHY Title\"].apply(preprocess_titles_enhanced)\n",
    "\n",
    "# Extract the processed information into separate columns for display\n",
    "giphy_data[\"emotion\"] = giphy_data[\"processed\"].apply(lambda x: x[\"emotion\"])\n",
    "giphy_data[\"keywords\"] = giphy_data[\"processed\"].apply(lambda x: x[\"keywords\"])\n",
    "\n",
    "# Drop the intermediate 'Processed' column for clarity\n",
    "dataset = giphy_data.drop(columns=['processed'])\n",
    "dataset\n",
    "dataset.to_csv(\"cleangiphy.csv\")"
   ]
  },
  {
   "cell_type": "markdown",
   "metadata": {},
   "source": [
    "## Model #1 (Old Model)"
   ]
  },
  {
   "cell_type": "code",
   "execution_count": 5,
   "metadata": {
    "colab": {
     "base_uri": "https://localhost:8080/",
     "height": 272
    },
    "id": "9-ATZooLBTw2",
    "outputId": "0d474f30-c99c-4d4f-fa7f-9f431c2bb5d5"
   },
   "outputs": [
    {
     "name": "stderr",
     "output_type": "stream",
     "text": [
      "/Users/CookS21/Downloads/Class17-py/.conda/lib/python3.12/site-packages/threadpoolctl.py:1214: RuntimeWarning: \n",
      "Found Intel OpenMP ('libiomp') and LLVM OpenMP ('libomp') loaded at\n",
      "the same time. Both libraries are known to be incompatible and this\n",
      "can cause random crashes or deadlocks on Linux when loaded in the\n",
      "same Python program.\n",
      "Using threadpoolctl may cause crashes or deadlocks. For more\n",
      "information and possible workarounds, please see\n",
      "    https://github.com/joblib/threadpoolctl/blob/master/multiple_openmp.md\n",
      "\n",
      "  warnings.warn(msg, RuntimeWarning)\n"
     ]
    },
    {
     "data": {
      "text/plain": [
       "Cluster\n",
       "0      82\n",
       "1    8637\n",
       "2     869\n",
       "3     692\n",
       "4     181\n",
       "dtype: int64"
      ]
     },
     "execution_count": 5,
     "metadata": {},
     "output_type": "execute_result"
    }
   ],
   "source": [
    "from sklearn.feature_extraction.text import TfidfVectorizer\n",
    "from sklearn.cluster import KMeans\n",
    "from sklearn.preprocessing import LabelEncoder\n",
    "\n",
    "# Prepare data for clustering\n",
    "# Convert emotions to numerical labels\n",
    "label_encoder = LabelEncoder()\n",
    "emotion_labels = label_encoder.fit_transform(dataset['emotion'])\n",
    "\n",
    "# Vectorize the keywords using TF-IDF\n",
    "vectorizer = TfidfVectorizer(max_features=100, stop_words='english')\n",
    "keywords_vectorized = vectorizer.fit_transform(dataset['keywords'].apply(lambda x: \" \".join(x)))\n",
    "\n",
    "# Combine emotion labels and TF-IDF vectors for clustering\n",
    "from scipy.sparse import hstack\n",
    "features = hstack([keywords_vectorized, emotion_labels.reshape(-1, 1)])\n",
    "\n",
    "# Apply K-Means clustering\n",
    "num_clusters = 5  # Set number of clusters\n",
    "kmeans = KMeans(n_clusters=num_clusters, random_state=42, n_init='auto')\n",
    "dataset['Cluster'] = kmeans.fit_predict(features)\n",
    "\n",
    "# Analyze cluster distribution\n",
    "cluster_summary = dataset.groupby('Cluster').size()\n",
    "\n",
    "cluster_summary\n"
   ]
  },
  {
   "cell_type": "code",
   "execution_count": 64,
   "metadata": {
    "colab": {
     "base_uri": "https://localhost:8080/",
     "height": 363
    },
    "id": "bcFfRdeRBTw3",
    "outputId": "1f1a25e8-9b1a-4745-d02d-7bcfbe0a405b"
   },
   "outputs": [
    {
     "data": {
      "text/html": [
       "<div>\n",
       "<style scoped>\n",
       "    .dataframe tbody tr th:only-of-type {\n",
       "        vertical-align: middle;\n",
       "    }\n",
       "\n",
       "    .dataframe tbody tr th {\n",
       "        vertical-align: top;\n",
       "    }\n",
       "\n",
       "    .dataframe thead th {\n",
       "        text-align: right;\n",
       "    }\n",
       "</style>\n",
       "<table border=\"1\" class=\"dataframe\">\n",
       "  <thead>\n",
       "    <tr style=\"text-align: right;\">\n",
       "      <th></th>\n",
       "      <th>GIF ID</th>\n",
       "      <th>Web Archive Link</th>\n",
       "      <th>GIPHY Title</th>\n",
       "      <th>emotion</th>\n",
       "      <th>Similarity</th>\n",
       "    </tr>\n",
       "  </thead>\n",
       "  <tbody>\n",
       "    <tr>\n",
       "      <th>3</th>\n",
       "      <td>1003Kuq13ICXDO</td>\n",
       "      <td>http://webarchive.loc.gov/all/20150318155641/https://media.giphy.com/media/1003Kuq13ICXDO/giphy.gif</td>\n",
       "      <td>love happy</td>\n",
       "      <td>positive</td>\n",
       "      <td>1.0</td>\n",
       "    </tr>\n",
       "    <tr>\n",
       "      <th>67</th>\n",
       "      <td>103wxMOQYiCOjK</td>\n",
       "      <td>http://webarchive.loc.gov/all/20150318155641/http://media.giphy.com/media/103wxMOQYiCOjK/giphy.gif</td>\n",
       "      <td>happy sun</td>\n",
       "      <td>positive</td>\n",
       "      <td>1.0</td>\n",
       "    </tr>\n",
       "    <tr>\n",
       "      <th>130</th>\n",
       "      <td>1097v2ZAvP3lVC</td>\n",
       "      <td>http://webarchive.loc.gov/all/20150318155641/https://media.giphy.com/media/1097v2ZAvP3lVC/giphy.gif</td>\n",
       "      <td>happy christina aguilera</td>\n",
       "      <td>positive</td>\n",
       "      <td>1.0</td>\n",
       "    </tr>\n",
       "    <tr>\n",
       "      <th>150</th>\n",
       "      <td>10aADbYxnJlc9q</td>\n",
       "      <td>http://webarchive.loc.gov/all/20150318155641/http://media.giphy.com/media/10aADbYxnJlc9q/giphy.gif</td>\n",
       "      <td>happy global warming</td>\n",
       "      <td>positive</td>\n",
       "      <td>1.0</td>\n",
       "    </tr>\n",
       "    <tr>\n",
       "      <th>232</th>\n",
       "      <td>10d3NDzD40xb0s</td>\n",
       "      <td>http://webarchive.loc.gov/all/20150318155641/http://media.giphy.com/media/10d3NDzD40xb0s/giphy.gif</td>\n",
       "      <td>happy sun  by Pasquale D'Silva</td>\n",
       "      <td>positive</td>\n",
       "      <td>1.0</td>\n",
       "    </tr>\n",
       "    <tr>\n",
       "      <th>741</th>\n",
       "      <td>10ttqzrQQODtUk</td>\n",
       "      <td>http://webarchive.loc.gov/all/20150318155641/http://media.giphy.com/media/10ttqzrQQODtUk/giphy.gif</td>\n",
       "      <td>happy benedict cumberbatch</td>\n",
       "      <td>positive</td>\n",
       "      <td>1.0</td>\n",
       "    </tr>\n",
       "    <tr>\n",
       "      <th>966</th>\n",
       "      <td>1136UBdSNn6Bu8</td>\n",
       "      <td>http://webarchive.loc.gov/all/20150318155641/https://media.giphy.com/media/1136UBdSNn6Bu8/giphy.gif</td>\n",
       "      <td>happy rabbit</td>\n",
       "      <td>positive</td>\n",
       "      <td>1.0</td>\n",
       "    </tr>\n",
       "    <tr>\n",
       "      <th>994</th>\n",
       "      <td>115mVjBnNptwUE</td>\n",
       "      <td>http://webarchive.loc.gov/all/20150318155641/https://media.giphy.com/media/115mVjBnNptwUE/giphy.gif</td>\n",
       "      <td>happy sansa stark</td>\n",
       "      <td>positive</td>\n",
       "      <td>1.0</td>\n",
       "    </tr>\n",
       "    <tr>\n",
       "      <th>1367</th>\n",
       "      <td>11lkl2WndSu3e0</td>\n",
       "      <td>http://webarchive.loc.gov/all/20150318155641/http://media.giphy.com/media/11lkl2WndSu3e0/giphy.gif</td>\n",
       "      <td>happy ratatouille</td>\n",
       "      <td>positive</td>\n",
       "      <td>1.0</td>\n",
       "    </tr>\n",
       "    <tr>\n",
       "      <th>1407</th>\n",
       "      <td>11MrfxzOCYgam4</td>\n",
       "      <td>http://webarchive.loc.gov/all/20150318155641/http://media.giphy.com/media/11MrfxzOCYgam4/giphy.gif</td>\n",
       "      <td>happy katie mcgrath</td>\n",
       "      <td>positive</td>\n",
       "      <td>1.0</td>\n",
       "    </tr>\n",
       "  </tbody>\n",
       "</table>\n",
       "</div>"
      ],
      "text/plain": [
       "              GIF ID  \\\n",
       "3     1003Kuq13ICXDO   \n",
       "67    103wxMOQYiCOjK   \n",
       "130   1097v2ZAvP3lVC   \n",
       "150   10aADbYxnJlc9q   \n",
       "232   10d3NDzD40xb0s   \n",
       "741   10ttqzrQQODtUk   \n",
       "966   1136UBdSNn6Bu8   \n",
       "994   115mVjBnNptwUE   \n",
       "1367  11lkl2WndSu3e0   \n",
       "1407  11MrfxzOCYgam4   \n",
       "\n",
       "                                                                                         Web Archive Link  \\\n",
       "3     http://webarchive.loc.gov/all/20150318155641/https://media.giphy.com/media/1003Kuq13ICXDO/giphy.gif   \n",
       "67     http://webarchive.loc.gov/all/20150318155641/http://media.giphy.com/media/103wxMOQYiCOjK/giphy.gif   \n",
       "130   http://webarchive.loc.gov/all/20150318155641/https://media.giphy.com/media/1097v2ZAvP3lVC/giphy.gif   \n",
       "150    http://webarchive.loc.gov/all/20150318155641/http://media.giphy.com/media/10aADbYxnJlc9q/giphy.gif   \n",
       "232    http://webarchive.loc.gov/all/20150318155641/http://media.giphy.com/media/10d3NDzD40xb0s/giphy.gif   \n",
       "741    http://webarchive.loc.gov/all/20150318155641/http://media.giphy.com/media/10ttqzrQQODtUk/giphy.gif   \n",
       "966   http://webarchive.loc.gov/all/20150318155641/https://media.giphy.com/media/1136UBdSNn6Bu8/giphy.gif   \n",
       "994   http://webarchive.loc.gov/all/20150318155641/https://media.giphy.com/media/115mVjBnNptwUE/giphy.gif   \n",
       "1367   http://webarchive.loc.gov/all/20150318155641/http://media.giphy.com/media/11lkl2WndSu3e0/giphy.gif   \n",
       "1407   http://webarchive.loc.gov/all/20150318155641/http://media.giphy.com/media/11MrfxzOCYgam4/giphy.gif   \n",
       "\n",
       "                         GIPHY Title   emotion  Similarity  \n",
       "3                         love happy  positive         1.0  \n",
       "67                         happy sun  positive         1.0  \n",
       "130         happy christina aguilera  positive         1.0  \n",
       "150             happy global warming  positive         1.0  \n",
       "232   happy sun  by Pasquale D'Silva  positive         1.0  \n",
       "741       happy benedict cumberbatch  positive         1.0  \n",
       "966                     happy rabbit  positive         1.0  \n",
       "994                happy sansa stark  positive         1.0  \n",
       "1367               happy ratatouille  positive         1.0  \n",
       "1407             happy katie mcgrath  positive         1.0  "
      ]
     },
     "execution_count": 64,
     "metadata": {},
     "output_type": "execute_result"
    }
   ],
   "source": [
    "from sklearn.metrics.pairwise import cosine_similarity\n",
    "import numpy as np\n",
    "\n",
    "pd.set_option('display.max_colwidth', None)\n",
    "\n",
    "# Function to process query\n",
    "def process_query(query):\n",
    "    # Use TextBlob for sentiment analysis to extract emotion from query\n",
    "    sentiment = TextBlob(query).sentiment\n",
    "    query_emotion = \"positive\" if sentiment.polarity > 0 else \"negative\" if sentiment.polarity < 0 else \"neutral\"\n",
    "\n",
    "    # Vectorize the query keywords using the same vectorizer\n",
    "    query_keywords_vector = vectorizer.transform([query])\n",
    "\n",
    "    return query_emotion, query_keywords_vector\n",
    "\n",
    "# Function to perform retrieval\n",
    "def retrieve_gifs(query, top_n=10):\n",
    "    # Process the query\n",
    "    query_emotion, query_keywords_vector = process_query(query)\n",
    "\n",
    "    # Match clusters by emotion similarity\n",
    "    matching_clusters = dataset[dataset['emotion'] == query_emotion]\n",
    "\n",
    "    if matching_clusters.empty:\n",
    "        return \"No matching clusters found for the specified emotion.\"\n",
    "\n",
    "    # Compute cosine similarity for keywords within the matching clusters\n",
    "    matching_keywords_vectors = vectorizer.transform(\n",
    "        matching_clusters['keywords'].apply(lambda x: \" \".join(x))\n",
    "    )\n",
    "    similarity_scores = cosine_similarity(query_keywords_vector, matching_keywords_vectors).flatten()\n",
    "\n",
    "    # Add similarity scores to the dataset\n",
    "    matching_clusters = matching_clusters.copy()\n",
    "    matching_clusters['Similarity'] = similarity_scores\n",
    "\n",
    "    # Rank by similarity score and select top N results\n",
    "    top_results = matching_clusters.nlargest(top_n, 'Similarity')\n",
    "    return top_results[['GIF ID', 'Web Archive Link', 'GIPHY Title', 'emotion', 'Similarity']]\n",
    "\n",
    "# Example Query\n",
    "query_example = \"A happy moment\"\n",
    "\n",
    "results = retrieve_gifs(query_example)\n",
    "results"
   ]
  },
  {
   "cell_type": "markdown",
   "metadata": {},
   "source": [
    "## Model #2 (New Model)"
   ]
  },
  {
   "cell_type": "code",
   "execution_count": 60,
   "metadata": {
    "colab": {
     "base_uri": "https://localhost:8080/",
     "height": 452
    },
    "id": "FuxoYnitBTw3",
    "outputId": "5066d71e-9e00-446d-b34b-11f499d72bcb"
   },
   "outputs": [
    {
     "name": "stdout",
     "output_type": "stream",
     "text": [
      "Dataset Index: Index([    0,     1,     2,     3,     4,     5,     7,     8,     9,    10,\n",
      "       ...\n",
      "       10962, 10963, 10964, 10965, 10966, 10967, 10968, 10969, 10970, 10971],\n",
      "      dtype='int64', length=10461)\n",
      "Combined Vectorized Shape: 10461\n"
     ]
    },
    {
     "data": {
      "text/html": [
       "<div>\n",
       "<style scoped>\n",
       "    .dataframe tbody tr th:only-of-type {\n",
       "        vertical-align: middle;\n",
       "    }\n",
       "\n",
       "    .dataframe tbody tr th {\n",
       "        vertical-align: top;\n",
       "    }\n",
       "\n",
       "    .dataframe thead th {\n",
       "        text-align: right;\n",
       "    }\n",
       "</style>\n",
       "<table border=\"1\" class=\"dataframe\">\n",
       "  <thead>\n",
       "    <tr style=\"text-align: right;\">\n",
       "      <th></th>\n",
       "      <th>GIF ID</th>\n",
       "      <th>Web Archive Link</th>\n",
       "      <th>GIPHY Title</th>\n",
       "      <th>emotion</th>\n",
       "      <th>Similarity</th>\n",
       "    </tr>\n",
       "  </thead>\n",
       "  <tbody>\n",
       "    <tr>\n",
       "      <th>0</th>\n",
       "      <td>1000eGIbYHercI</td>\n",
       "      <td>http://webarchive.loc.gov/all/20150318155641/http://media.giphy.com/media/1000eGIbYHercI/giphy.gif</td>\n",
       "      <td>slipper</td>\n",
       "      <td>neutral</td>\n",
       "      <td>0.0</td>\n",
       "    </tr>\n",
       "    <tr>\n",
       "      <th>1</th>\n",
       "      <td>1000fHsBSKSL6w</td>\n",
       "      <td>http://webarchive.loc.gov/all/20150318155641/http://media.giphy.com/media/1000fHsBSKSL6w/giphy.gif</td>\n",
       "      <td>swag hustling</td>\n",
       "      <td>neutral</td>\n",
       "      <td>0.0</td>\n",
       "    </tr>\n",
       "    <tr>\n",
       "      <th>2</th>\n",
       "      <td>1000WjcUQeqOaY</td>\n",
       "      <td>http://webarchive.loc.gov/all/20150318155641/https://media.giphy.com/media/1000WjcUQeqOaY/giphy.gif</td>\n",
       "      <td>jennifer lawrence salute</td>\n",
       "      <td>neutral</td>\n",
       "      <td>0.0</td>\n",
       "    </tr>\n",
       "    <tr>\n",
       "      <th>4</th>\n",
       "      <td>1004D5v8Dbe6cw</td>\n",
       "      <td>http://webarchive.loc.gov/all/20150318155641/https://media.giphy.com/media/1004D5v8Dbe6cw/giphy.gif</td>\n",
       "      <td>visual album beyonce</td>\n",
       "      <td>neutral</td>\n",
       "      <td>0.0</td>\n",
       "    </tr>\n",
       "    <tr>\n",
       "      <th>5</th>\n",
       "      <td>1004Eqp3k9U6KQ</td>\n",
       "      <td>http://webarchive.loc.gov/all/20150318155641/https://media.giphy.com/media/1004Eqp3k9U6KQ/giphy.gif</td>\n",
       "      <td>the muppets nodding</td>\n",
       "      <td>neutral</td>\n",
       "      <td>0.0</td>\n",
       "    </tr>\n",
       "    <tr>\n",
       "      <th>7</th>\n",
       "      <td>1007d28L3ZIjRe</td>\n",
       "      <td>http://webarchive.loc.gov/all/20150318155641/http://media.giphy.com/media/1007d28L3ZIjRe/giphy.gif</td>\n",
       "      <td>bread eating</td>\n",
       "      <td>neutral</td>\n",
       "      <td>0.0</td>\n",
       "    </tr>\n",
       "    <tr>\n",
       "      <th>9</th>\n",
       "      <td>100ak1Sn7F3ius</td>\n",
       "      <td>http://webarchive.loc.gov/all/20150318155641/http://media.giphy.com/media/100ak1Sn7F3ius/giphy.gif</td>\n",
       "      <td>michael jackson dancing</td>\n",
       "      <td>neutral</td>\n",
       "      <td>0.0</td>\n",
       "    </tr>\n",
       "    <tr>\n",
       "      <th>11</th>\n",
       "      <td>100d6UtqKnuNuU</td>\n",
       "      <td>http://webarchive.loc.gov/all/20150318155641/https://media.giphy.com/media/100d6UtqKnuNuU/giphy.gif</td>\n",
       "      <td>inuyasha</td>\n",
       "      <td>neutral</td>\n",
       "      <td>0.0</td>\n",
       "    </tr>\n",
       "    <tr>\n",
       "      <th>12</th>\n",
       "      <td>100hiniRFKa3OE</td>\n",
       "      <td>http://webarchive.loc.gov/all/20150318155641/https://media.giphy.com/media/100hiniRFKa3OE/giphy.gif</td>\n",
       "      <td>cat watching</td>\n",
       "      <td>neutral</td>\n",
       "      <td>0.0</td>\n",
       "    </tr>\n",
       "    <tr>\n",
       "      <th>13</th>\n",
       "      <td>100J4cu5UbCnVm</td>\n",
       "      <td>http://webarchive.loc.gov/all/20150318155641/https://media.giphy.com/media/100J4cu5UbCnVm/giphy.gif</td>\n",
       "      <td>american crime story acs</td>\n",
       "      <td>neutral</td>\n",
       "      <td>0.0</td>\n",
       "    </tr>\n",
       "  </tbody>\n",
       "</table>\n",
       "</div>"
      ],
      "text/plain": [
       "            GIF ID  \\\n",
       "0   1000eGIbYHercI   \n",
       "1   1000fHsBSKSL6w   \n",
       "2   1000WjcUQeqOaY   \n",
       "4   1004D5v8Dbe6cw   \n",
       "5   1004Eqp3k9U6KQ   \n",
       "7   1007d28L3ZIjRe   \n",
       "9   100ak1Sn7F3ius   \n",
       "11  100d6UtqKnuNuU   \n",
       "12  100hiniRFKa3OE   \n",
       "13  100J4cu5UbCnVm   \n",
       "\n",
       "                                                                                       Web Archive Link  \\\n",
       "0    http://webarchive.loc.gov/all/20150318155641/http://media.giphy.com/media/1000eGIbYHercI/giphy.gif   \n",
       "1    http://webarchive.loc.gov/all/20150318155641/http://media.giphy.com/media/1000fHsBSKSL6w/giphy.gif   \n",
       "2   http://webarchive.loc.gov/all/20150318155641/https://media.giphy.com/media/1000WjcUQeqOaY/giphy.gif   \n",
       "4   http://webarchive.loc.gov/all/20150318155641/https://media.giphy.com/media/1004D5v8Dbe6cw/giphy.gif   \n",
       "5   http://webarchive.loc.gov/all/20150318155641/https://media.giphy.com/media/1004Eqp3k9U6KQ/giphy.gif   \n",
       "7    http://webarchive.loc.gov/all/20150318155641/http://media.giphy.com/media/1007d28L3ZIjRe/giphy.gif   \n",
       "9    http://webarchive.loc.gov/all/20150318155641/http://media.giphy.com/media/100ak1Sn7F3ius/giphy.gif   \n",
       "11  http://webarchive.loc.gov/all/20150318155641/https://media.giphy.com/media/100d6UtqKnuNuU/giphy.gif   \n",
       "12  http://webarchive.loc.gov/all/20150318155641/https://media.giphy.com/media/100hiniRFKa3OE/giphy.gif   \n",
       "13  http://webarchive.loc.gov/all/20150318155641/https://media.giphy.com/media/100J4cu5UbCnVm/giphy.gif   \n",
       "\n",
       "                 GIPHY Title  emotion  Similarity  \n",
       "0                    slipper  neutral         0.0  \n",
       "1              swag hustling  neutral         0.0  \n",
       "2   jennifer lawrence salute  neutral         0.0  \n",
       "4       visual album beyonce  neutral         0.0  \n",
       "5        the muppets nodding  neutral         0.0  \n",
       "7               bread eating  neutral         0.0  \n",
       "9    michael jackson dancing  neutral         0.0  \n",
       "11                  inuyasha  neutral         0.0  \n",
       "12              cat watching  neutral         0.0  \n",
       "13  american crime story acs  neutral         0.0  "
      ]
     },
     "execution_count": 60,
     "metadata": {},
     "output_type": "execute_result"
    }
   ],
   "source": [
    "from sklearn.feature_extraction.text import TfidfVectorizer\n",
    "from sklearn.metrics.pairwise import cosine_similarity\n",
    "from textblob import TextBlob\n",
    "import numpy as np\n",
    "\n",
    "# Fill missing values in titles and descriptions with empty strings\n",
    "dataset['GIPHY Title'] = dataset['GIPHY Title'].fillna('')\n",
    "dataset['Description'] = dataset['Description'].fillna('')\n",
    "\n",
    "# Combine keywords, titles, and descriptions into a single text field for vectorization\n",
    "dataset['combined_text'] = dataset.apply(\n",
    "    lambda row: ' '.join(row['keywords']).replace(\"'\", \"\").replace(\"[\", \"\").replace(\"]\", \"\") +\n",
    "                ' ' + row['GIPHY Title'] + ' ' + row['Description'],\n",
    "    axis=1\n",
    ")\n",
    "\n",
    "# Vectorize the combined text using TF-IDF\n",
    "vectorizer = TfidfVectorizer(max_features=500, stop_words='english')\n",
    "combined_vectorized = vectorizer.fit_transform(dataset['combined_text'])\n",
    "\n",
    "print(f\"Dataset Index: {dataset.index}\")  # Indices of the dataset\n",
    "print(f\"Combined Vectorized Shape: {combined_vectorized.shape[0]}\")  # Number of rows in the sparse matrix\n",
    "# Function to process query with sentiment analysis and vectorization\n",
    "def process_query(query):\n",
    "    # Use TextBlob for sentiment analysis to extract emotion from query\n",
    "    sentiment = TextBlob(query).sentiment\n",
    "    query_emotion = \"positive\" if sentiment.polarity > 0 else \"negative\" if sentiment.polarity < 0 else \"neutral\"\n",
    "\n",
    "    # Vectorize the query text\n",
    "    query_vector = vectorizer.transform([query])\n",
    "\n",
    "    return query_emotion, query_vector\n",
    "\n",
    "# Function to perform retrieval based on combined text similarity\n",
    "def retrieve_gifs_fixed(query, top_n=10):\n",
    "    # Process the query\n",
    "    query_emotion, query_vector = process_query(query)\n",
    "\n",
    "    # Filter dataset by matching emotions\n",
    "    matching_gifs = dataset[dataset['emotion'] == query_emotion].reset_index(drop=True)\n",
    "\n",
    "    if matching_gifs.empty:\n",
    "        return \"No matching GIFs found for the specified emotion.\"\n",
    "\n",
    "    # Select rows from the sparse matrix corresponding to the filtered dataset\n",
    "    matching_indices = matching_gifs.index.to_numpy()\n",
    "    matching_vectors = combined_vectorized[matching_indices]\n",
    "\n",
    "    # Compute cosine similarity with the combined text\n",
    "    similarity_scores = cosine_similarity(query_vector, matching_vectors).flatten()\n",
    "\n",
    "    # Add similarity scores to the filtered dataset\n",
    "    matching_gifs = matching_gifs.copy()\n",
    "    matching_gifs['Similarity'] = similarity_scores\n",
    "\n",
    "    # Rank by similarity score and select top N results\n",
    "    top_results = matching_gifs.nlargest(top_n, 'Similarity')\n",
    "    return top_results[['GIF ID', 'Web Archive Link', 'GIPHY Title', 'Description', 'emotion', 'Similarity']]\n",
    "\n",
    "# Example Query\n",
    "query_example = \"Feeling Nervous\"\n",
    "\n",
    "# Retrieve GIFs for the query\n",
    "results = retrieve_gifs(query_example)\n",
    "\n",
    "results\n"
   ]
  },
  {
   "cell_type": "markdown",
   "metadata": {},
   "source": [
    "## Evaluation"
   ]
  },
  {
   "cell_type": "code",
   "execution_count": null,
   "metadata": {
    "colab": {
     "base_uri": "https://localhost:8080/"
    },
    "id": "AGotEzrI0P9a",
    "outputId": "825f76b3-68c0-47ca-98fa-e93712f96132"
   },
   "outputs": [
    {
     "name": "stdout",
     "output_type": "stream",
     "text": [
      "<class 'pandas.core.frame.DataFrame'>\n",
      "RangeIndex: 500 entries, 0 to 499\n",
      "Data columns (total 3 columns):\n",
      " #   Column     Non-Null Count  Dtype \n",
      "---  ------     --------------  ----- \n",
      " 0   Query      500 non-null    object\n",
      " 1   GIF ID     500 non-null    object\n",
      " 2   Relevance  500 non-null    object\n",
      "dtypes: object(3)\n",
      "memory usage: 11.8+ KB\n"
     ]
    }
   ],
   "source": [
    "annotated_queries = pd.read_csv(\"/50 Annotated Queries/annotated_queries_fixed.csv\")\n",
    "annotated_queries.info()"
   ]
  },
  {
   "cell_type": "code",
   "execution_count": 55,
   "metadata": {
    "id": "xIkYTgvW0YGo"
   },
   "outputs": [],
   "source": [
    "relevance_map = {\"Highly Relevant\": 2, \"Moderately Relevant\": 1, \"Not Relevant\": 0}\n",
    "annotated_queries['Relevance'] = annotated_queries['Relevance'].map(relevance_map)"
   ]
  },
  {
   "cell_type": "markdown",
   "metadata": {},
   "source": [
    "### New Model Evaluation "
   ]
  },
  {
   "cell_type": "code",
   "execution_count": 61,
   "metadata": {
    "id": "NV9Aqz3OTGsE"
   },
   "outputs": [],
   "source": [
    "from sklearn.metrics import precision_recall_fscore_support\n",
    "\n",
    "def evaluate_model(annotated_queries, top_n=10):\n",
    "    precision_list = []\n",
    "    recall_list = []\n",
    "    f1_list = []\n",
    "\n",
    "    for _, row in annotated_queries.iterrows():\n",
    "        query = row['Query']\n",
    "        relevant_gif_id = row['GIF ID']\n",
    "        relevance_score = row['Relevance']\n",
    "\n",
    "        # Retrieve top N GIFs for the query\n",
    "        retrieved_gifs = retrieve_gifs_fixed(query, top_n)\n",
    "\n",
    "        # Check if the relevant GIF is in the top N\n",
    "        retrieved_ids = retrieved_gifs['GIF ID'].tolist()\n",
    "        is_relevant = [1 if gif_id == relevant_gif_id else 0 for gif_id in retrieved_ids]\n",
    "        true_labels = [1 if relevance_score > 0 else 0] * len(is_relevant)\n",
    "\n",
    "        # Calculate precision, recall, and F1 for this query\n",
    "        precision, recall, f1, _ = precision_recall_fscore_support(\n",
    "            true_labels, is_relevant, average='binary', zero_division=0\n",
    "        )\n",
    "\n",
    "        precision_list.append(precision)\n",
    "        recall_list.append(recall)\n",
    "        f1_list.append(f1)\n",
    "\n",
    "    # Compute average precision, recall, and F1 scores\n",
    "    avg_precision = np.mean(precision_list)\n",
    "    avg_recall = np.mean(recall_list)\n",
    "    avg_f1 = np.mean(f1_list)\n",
    "\n",
    "\n",
    "    return avg_precision, avg_recall, avg_f1\n"
   ]
  },
  {
   "cell_type": "code",
   "execution_count": 62,
   "metadata": {
    "colab": {
     "base_uri": "https://localhost:8080/"
    },
    "id": "zUKA_zAzTkIB",
    "outputId": "d8fafb90-5715-4068-f4e9-cf3252378de4"
   },
   "outputs": [
    {
     "name": "stdout",
     "output_type": "stream",
     "text": [
      "Precision: 0.1300\n",
      "Recall: 0.0130\n",
      "F1 Score: 0.0236\n"
     ]
    }
   ],
   "source": [
    "precision, recall, f1 = evaluate_model(annotated_queries)\n",
    "print(f\"Precision: {precision:.4f}\")\n",
    "print(f\"Recall: {recall:.4f}\")\n",
    "print(f\"F1 Score: {f1:.4f}\")"
   ]
  },
  {
   "cell_type": "markdown",
   "metadata": {},
   "source": [
    "### Old Model Evaluation "
   ]
  },
  {
   "cell_type": "code",
   "execution_count": 58,
   "metadata": {
    "id": "yRpF9EAfbxC5"
   },
   "outputs": [],
   "source": [
    "from sklearn.metrics import precision_recall_fscore_support\n",
    "\n",
    "def evaluate_model_old(annotated_queries, top_n=10):\n",
    "    precision_list = []\n",
    "    recall_list = []\n",
    "    f1_list = []\n",
    "\n",
    "    for _, row in annotated_queries.iterrows():\n",
    "        query = row['Query']\n",
    "        relevant_gif_id = row['GIF ID']\n",
    "        relevance_score = row['Relevance']\n",
    "\n",
    "        # Retrieve top N GIFs for the query\n",
    "        retrieved_gifs = retrieve_gifs(query, top_n)\n",
    "\n",
    "        # Check if the relevant GIF is in the top N\n",
    "        retrieved_ids = retrieved_gifs['GIF ID'].tolist()\n",
    "        is_relevant = [1 if gif_id == relevant_gif_id else 0 for gif_id in retrieved_ids]\n",
    "        true_labels = [1 if relevance_score > 0 else 0] * len(is_relevant)\n",
    "\n",
    "        # Calculate precision, recall, and F1 for this query\n",
    "        precision, recall, f1, _ = precision_recall_fscore_support(\n",
    "            true_labels, is_relevant, average='binary', zero_division=0\n",
    "        )\n",
    "\n",
    "        precision_list.append(precision)\n",
    "        recall_list.append(recall)\n",
    "        f1_list.append(f1)\n",
    "\n",
    "    # Compute average precision, recall, and F1 scores\n",
    "    avg_precision = np.mean(precision_list)\n",
    "    avg_recall = np.mean(recall_list)\n",
    "    avg_f1 = np.mean(f1_list)\n",
    "\n",
    "    return avg_precision, avg_recall, avg_f1"
   ]
  },
  {
   "cell_type": "code",
   "execution_count": 59,
   "metadata": {
    "colab": {
     "base_uri": "https://localhost:8080/"
    },
    "id": "9Sq0Cpx9b7_a",
    "outputId": "f42ea6f0-b2ea-4674-998d-114b5ec8dd69"
   },
   "outputs": [
    {
     "name": "stdout",
     "output_type": "stream",
     "text": [
      "Precision: 0.2560\n",
      "Recall: 0.0256\n",
      "F1 Score: 0.0465\n"
     ]
    }
   ],
   "source": [
    "precision_old, recall_old, f1_old = evaluate_model_old(annotated_queries)\n",
    "print(f\"Precision: {precision_old:.4f}\")\n",
    "print(f\"Recall: {recall_old:.4f}\")\n",
    "print(f\"F1 Score: {f1_old:.4f}\")"
   ]
  },
  {
   "cell_type": "markdown",
   "metadata": {},
   "source": [
    "### Plotting the Evaluation Scores"
   ]
  },
  {
   "cell_type": "code",
   "execution_count": 17,
   "metadata": {
    "colab": {
     "base_uri": "https://localhost:8080/",
     "height": 472
    },
    "id": "nRRbHSOYoTs7",
    "outputId": "3e298624-eab5-46ae-dc34-7cb36746c002"
   },
   "outputs": [
    {
     "data": {
      "image/png": "[encoded data removed]",
      "text/plain": [
       "<Figure size 640x480 with 2 Axes>"
      ]
     },
     "metadata": {},
     "output_type": "display_data"
    }
   ],
   "source": [
    "import matplotlib.pyplot as plt\n",
    "from sklearn.metrics import ConfusionMatrixDisplay\n",
    "import numpy as np\n",
    "\n",
    "# Assuming binary relevance (relevant vs. not relevant)\n",
    "y_true = []\n",
    "y_pred = []\n",
    "\n",
    "for _, row in annotated_queries.iterrows():\n",
    "    query = row['Query']\n",
    "    relevant_gifs = set(row['GIF ID'].split(','))\n",
    "    top_results = retrieve_gifs(query, top_n=10)['GIF ID']\n",
    "    y_true.append([1 if gif_id in relevant_gifs else 0 for gif_id in top_results])\n",
    "    y_pred.append([1] * len(top_results))  # Predict all top-N as relevant\n",
    "\n",
    "y_true_flat = np.concatenate(y_true)\n",
    "y_pred_flat = np.concatenate(y_pred)\n",
    "\n",
    "ConfusionMatrixDisplay.from_predictions(y_true_flat, y_pred_flat)\n",
    "plt.title(\"Confusion Matrix\")\n",
    "plt.show()\n"
   ]
  },
  {
   "cell_type": "code",
   "execution_count": 20,
   "metadata": {
    "colab": {
     "base_uri": "https://localhost:8080/",
     "height": 581
    },
    "id": "TKSNznrkptNq",
    "outputId": "ac9eeb86-3ac1-4c40-db4a-7638834a5346"
   },
   "outputs": [
    {
     "name": "stderr",
     "output_type": "stream",
     "text": [
      "/var/folders/0_/492vkfd907l731l24rh69fww0000gn/T/ipykernel_53265/2873790496.py:3: FutureWarning: \n",
      "\n",
      "Passing `palette` without assigning `hue` is deprecated and will be removed in v0.14.0. Assign the `x` variable to `hue` and set `legend=False` for the same effect.\n",
      "\n",
      "  sns.countplot(data=dataset, x='Cluster', palette='viridis')\n"
     ]
    },
    {
     "data": {
      "image/png": "[encoded data removed]",
      "text/plain": [
       "<Figure size 640x480 with 1 Axes>"
      ]
     },
     "metadata": {},
     "output_type": "display_data"
    }
   ],
   "source": [
    "import seaborn as sns\n",
    "\n",
    "sns.countplot(data=dataset, x='Cluster', palette='viridis')\n",
    "plt.title(\"Cluster Distribution\")\n",
    "plt.xlabel(\"Cluster\")\n",
    "plt.ylabel(\"Number of GIFs\")\n",
    "plt.show()"
   ]
  },
  {
   "cell_type": "code",
   "execution_count": 21,
   "metadata": {
    "colab": {
     "base_uri": "https://localhost:8080/",
     "height": 472
    },
    "id": "z1vnyjr1p38c",
    "outputId": "4ed0cd6b-953b-40d0-8f35-f67244af19c0"
   },
   "outputs": [
    {
     "data": {
      "image/png": "[encoded data removed]",
      "text/plain": [
       "<Figure size 640x480 with 1 Axes>"
      ]
     },
     "metadata": {},
     "output_type": "display_data"
    }
   ],
   "source": [
    "top_n_values = [10, 100, 500]\n",
    "scores = {'Top N': [], 'Precision': [], 'Recall': [], 'F1': []}\n",
    "\n",
    "for top_n in top_n_values:\n",
    "    precision, recall, f1 = evaluate_model(annotated_queries, top_n=top_n)\n",
    "    scores['Top N'].append(top_n)\n",
    "    scores['Precision'].append(precision)\n",
    "    scores['Recall'].append(recall)\n",
    "    scores['F1'].append(f1)\n",
    "\n",
    "scores_df = pd.DataFrame(scores)\n",
    "\n",
    "sns.barplot(data=scores_df.melt(id_vars=['Top N'], var_name='Metric'), x='Top N', y='value', hue='Metric', palette='Set2')\n",
    "plt.title(\"New Model Performance at Varying Top N\")\n",
    "plt.xlabel(\"Top N\")\n",
    "plt.ylabel(\"Score\")\n",
    "plt.show()\n"
   ]
  },
  {
   "cell_type": "code",
   "execution_count": 22,
   "metadata": {
    "colab": {
     "base_uri": "https://localhost:8080/",
     "height": 480
    },
    "id": "AT4fu6NG7p2B",
    "outputId": "dc20b1f3-60d2-4a5c-979e-c283e48df641"
   },
   "outputs": [
    {
     "data": {
      "image/png": "[encoded data removed]",
      "text/plain": [
       "<Figure size 640x480 with 1 Axes>"
      ]
     },
     "metadata": {},
     "output_type": "display_data"
    }
   ],
   "source": [
    "top_n_values_old = [10, 100, 500]\n",
    "scores_old = {'Top N': [], 'Precision': [], 'Recall': [], 'F1': []}\n",
    "\n",
    "for top_n in top_n_values_old:\n",
    "    precision_old, recall_old, f1_old = evaluate_model_old(annotated_queries, top_n=top_n)\n",
    "    scores_old['Top N'].append(top_n)\n",
    "    scores_old['Precision'].append(precision_old)\n",
    "    scores_old['Recall'].append(recall_old)\n",
    "    scores_old['F1'].append(f1_old)\n",
    "\n",
    "scores_df_old = pd.DataFrame(scores_old)\n",
    "\n",
    "sns.barplot(data=scores_df_old.melt(id_vars=['Top N'], var_name='Metric'), x='Top N', y='value', hue='Metric', palette='Set2')\n",
    "plt.title(\"Old Model Performance at Varying Top N\")\n",
    "plt.xlabel(\"Top N\")\n",
    "plt.ylabel(\"Score\")\n",
    "plt.show()\n"
   ]
  }
 ],
 "metadata": {
  "colab": {
   "provenance": []
  },
  "kernelspec": {
   "display_name": "Python 3",
   "language": "python",
   "name": "python3"
  },
  "language_info": {
   "codemirror_mode": {
    "name": "ipython",
    "version": 3
   },
   "file_extension": ".py",
   "mimetype": "text/x-python",
   "name": "python",
   "nbconvert_exporter": "python",
   "pygments_lexer": "ipython3",
   "version": "3.12.7"
  }
 },
 "nbformat": 4,
 "nbformat_minor": 0
}
